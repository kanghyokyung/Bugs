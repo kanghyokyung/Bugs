function matrixInitialize(m,n) # matrix initialization
    return fill(0.0,m,n)
end

addm(x,y) = x + y;

subm(x,y)=x-y

function scalar(A::Array{Float64,2},C::Any)
    return C*A
end

function increment(A::Array{Float64,2},B::Array{Float64,2}, C::Any)
    return A+C*B
end

function lincomb(A::Array{Float64,2},B::Array{Float64,2}, C::Any, D::Any)
    A=C*A
    B=D*B
    return A+B
end

function maxabs(A::Array{Float64,2},B::Array{Float64,2})
    for i in 1:length(A)
        if abs(A[i])>abs(B[i])
            A[i]=abs(A[i])
        else
            A[i]=abs(B[i])
        end
    end
    return A
end

function operator(A::Array{Float64,2},B::Array{Float64,2})
    for i in 1:length(A)
        A[i]=A[i]*B[i]
    end
    return A
end
